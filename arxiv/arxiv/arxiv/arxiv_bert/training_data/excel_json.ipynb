{
 "cells": [
  {
   "cell_type": "code",
   "execution_count": 29,
   "metadata": {},
   "outputs": [],
   "source": [
    "import pandas as pd\n",
    "import json"
   ]
  },
  {
   "cell_type": "code",
   "execution_count": 28,
   "metadata": {},
   "outputs": [
    {
     "name": "stdout",
     "output_type": "stream",
     "text": [
      "JSON 文件已生成：./new_training_data.json\n"
     ]
    }
   ],
   "source": [
    "# 定义文件路径\n",
    "excel_file_path = '/Users/zhijingsun/Desktop/datasetcollection.xlsx'  # 替换为你的 Excel 文件路径\n",
    "json_file_path = './new_training_data.json'  # 你希望保存的 JSON 文件路径\n",
    "\n",
    "# 读取 Excel 文\n",
    "df = pd.read_excel(excel_file_path)\n",
    "\n",
    "# 将 DataFrame 转换为字典列表\n",
    "data = df.to_dict(orient='records')\n",
    "\n",
    "# 将字典列表保存为 JSON 文件\n",
    "with open(json_file_path, 'w') as json_file:\n",
    "    json.dump(data, json_file, indent=4)\n",
    "\n",
    "print(f\"JSON 文件已生成：{json_file_path}\")"
   ]
  },
  {
   "cell_type": "code",
   "execution_count": 30,
   "metadata": {},
   "outputs": [
    {
     "name": "stdout",
     "output_type": "stream",
     "text": [
      "Data has been successfully written to /Users/zhijingsun/Desktop/东理/arxiv/arxiv/arxiv/arxiv_bert/training_data/pretrain.xlsx\n"
     ]
    }
   ],
   "source": [
    "def json_to_excel(json_file_path, excel_file_path):\n",
    "    # 读取JSON文件\n",
    "    with open(json_file_path, 'r') as json_file:\n",
    "        data = json.load(json_file)\n",
    "\n",
    "    # 检查数据是否为列表格式\n",
    "    if isinstance(data, list):\n",
    "        # 将数据转换为Pandas DataFrame\n",
    "        df = pd.DataFrame(data)\n",
    "    else:\n",
    "        # 如果不是列表，将数据放入一个列表中\n",
    "        df = pd.DataFrame([data])\n",
    "\n",
    "    # 保存DataFrame到Excel文件\n",
    "    df.to_excel(excel_file_path, index=False)\n",
    "\n",
    "    print(f\"Data has been successfully written to {excel_file_path}\")\n",
    "\n",
    "# 示例使用\n",
    "json_file_path = '/Users/zhijingsun/Desktop/东理/arxiv/arxiv/arxiv/arxiv_bert/training_data/original/training_data.json'  # 替换为你的JSON文件路径\n",
    "excel_file_path = '/Users/zhijingsun/Desktop/东理/arxiv/arxiv/arxiv/arxiv_bert/training_data/pretrain.xlsx'  # 替换为输出的Excel文件路径\n",
    "\n",
    "json_to_excel(json_file_path, excel_file_path)\n"
   ]
  },
  {
   "cell_type": "code",
   "execution_count": null,
   "metadata": {},
   "outputs": [],
   "source": []
  }
 ],
 "metadata": {
  "kernelspec": {
   "display_name": "base",
   "language": "python",
   "name": "python3"
  },
  "language_info": {
   "codemirror_mode": {
    "name": "ipython",
    "version": 3
   },
   "file_extension": ".py",
   "mimetype": "text/x-python",
   "name": "python",
   "nbconvert_exporter": "python",
   "pygments_lexer": "ipython3",
   "version": "3.9.13"
  }
 },
 "nbformat": 4,
 "nbformat_minor": 2
}

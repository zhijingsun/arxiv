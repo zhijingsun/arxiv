{
 "cells": [
  {
   "cell_type": "code",
   "execution_count": 7,
   "metadata": {},
   "outputs": [],
   "source": [
    "import pandas as pd\n",
    "import json"
   ]
  },
  {
   "cell_type": "code",
   "execution_count": 8,
   "metadata": {},
   "outputs": [
    {
     "name": "stdout",
     "output_type": "stream",
     "text": [
      "JSON 文件已生成：/Users/zhijingsun/Desktop/output.json\n"
     ]
    }
   ],
   "source": [
    "# 定义文件路径\n",
    "excel_file_path = '/Users/zhijingsun/Desktop/datacollection.xlsx'  # 替换为你的 Excel 文件路径\n",
    "json_file_path = '/Users/zhijingsun/Desktop/output.json'  # 你希望保存的 JSON 文件路径\n",
    "\n",
    "# 读取 Excel 文件\n",
    "df = pd.read_excel(excel_file_path)\n",
    "\n",
    "# 将 DataFrame 转换为字典列表\n",
    "data = df.to_dict(orient='records')\n",
    "\n",
    "# 将字典列表保存为 JSON 文件\n",
    "with open(json_file_path, 'w') as json_file:\n",
    "    json.dump(data, json_file, indent=4)\n",
    "\n",
    "print(f\"JSON 文件已生成：{json_file_path}\")"
   ]
  },
  {
   "cell_type": "code",
   "execution_count": null,
   "metadata": {},
   "outputs": [],
   "source": []
  }
 ],
 "metadata": {
  "kernelspec": {
   "display_name": "base",
   "language": "python",
   "name": "python3"
  },
  "language_info": {
   "codemirror_mode": {
    "name": "ipython",
    "version": 3
   },
   "file_extension": ".py",
   "mimetype": "text/x-python",
   "name": "python",
   "nbconvert_exporter": "python",
   "pygments_lexer": "ipython3",
   "version": "3.9.13"
  }
 },
 "nbformat": 4,
 "nbformat_minor": 2
}
